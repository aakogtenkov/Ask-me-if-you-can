{
 "cells": [
  {
   "cell_type": "code",
   "execution_count": 3,
   "metadata": {
    "collapsed": false,
    "deletable": true,
    "editable": true
   },
   "outputs": [],
   "source": [
    "input = open('simplewiki-20170201-pages-meta-current.xml', 'r')\n",
    "output = open('simplewiki-preparsed0.txt', 'w')\n",
    "s = input.readline()\n",
    "c = 0\n",
    "while len(s) > 0:\n",
    "    s = s.split()\n",
    "    for i in range(len(s)):\n",
    "        if s[i] == '<page>':\n",
    "            s[i] = '\\n tttrrr a new page started tttrrr omgbbq ' + str(c) + '\\n'\n",
    "            c += 1\n",
    "        output.write(s[i] + ' ')\n",
    "    output.write('\\n')\n",
    "    s = input.readline()\n",
    "output.close()\n",
    "input.close()"
   ]
  },
  {
   "cell_type": "code",
   "execution_count": 4,
   "metadata": {
    "collapsed": false,
    "deletable": true,
    "editable": true
   },
   "outputs": [],
   "source": [
    "input = open('simplewiki-preparsed0.txt', 'r')\n",
    "output = open('simplewiki-preparsed1.txt', 'w')\n",
    "s = input.read(1)\n",
    "brackets = 0\n",
    "br2 = 0\n",
    "while len(s) == 1:\n",
    "    if s == '\\n':\n",
    "        br2 = 0\n",
    "    if s == '{':\n",
    "        brackets += 1\n",
    "    elif s == '}':\n",
    "        brackets -= 1\n",
    "        brackets = max(0, brackets)\n",
    "    elif s == '<':\n",
    "        br2 += 1\n",
    "    elif s == '>':\n",
    "        br2 -= 1\n",
    "        br2 = max(0, br2)\n",
    "        brackets = 0\n",
    "    elif brackets <= 1 and br2 == 0:\n",
    "        output.write(s)\n",
    "    s = input.read(1)\n",
    "output.close()\n",
    "input.close()"
   ]
  },
  {
   "cell_type": "code",
   "execution_count": 5,
   "metadata": {
    "collapsed": false,
    "deletable": true,
    "editable": true
   },
   "outputs": [],
   "source": [
    "input = open('simplewiki-preparsed1.txt', 'r')\n",
    "output = open('simplewiki-preparsed2.txt', 'w')\n",
    "s = input.readline()\n",
    "while len(s) > 0:\n",
    "    s = s.split()\n",
    "    if len(s) > 4:\n",
    "        for elem in s:\n",
    "            x = elem.split('|')\n",
    "            if (x[-1].find('&') != -1 and x[-1].find('/') != -1 or\n",
    "                x[-1].find('&') != -1 and x[-1].find(':') != -1 or\n",
    "                x[-1].find('&') != -1 and x[-1].find('=') != -1):\n",
    "                x[-1] = \"\"\n",
    "            while x[-1].find('&') != -1:\n",
    "                ind = x[-1].find('&')\n",
    "                ind2 = ind + 1\n",
    "                while ind2 < len(x[-1]) and (x[-1][ind2] != ' ' and x[-1][ind2] != ';'):\n",
    "                    ind2 += 1\n",
    "                x[-1] = x[-1][:ind] + x[-1][ind2:]\n",
    "            if len(x[-1]) < 30:\n",
    "                output.write(x[-1] + ' ')\n",
    "        output.write('\\n')\n",
    "    s = input.readline()\n",
    "\n",
    "output.close()\n",
    "input.close()"
   ]
  },
  {
   "cell_type": "code",
   "execution_count": 6,
   "metadata": {
    "collapsed": false,
    "deletable": true,
    "editable": true
   },
   "outputs": [],
   "source": [
    "input = open('simplewiki-preparsed2.txt', 'r')\n",
    "output = open('simplewiki-preparsed3.txt', 'w')\n",
    "s = input.readline()\n",
    "while len(s) > 0:\n",
    "    if (s.find('if(') != -1 or s.find('=') != -1 or \n",
    "        s.find('/*') != -1 or s.find('*/') != -1):\n",
    "        s = \"\"\n",
    "    output.write(s + '\\n')\n",
    "    s = input.readline()\n",
    "output.close()\n",
    "input.close()"
   ]
  },
  {
   "cell_type": "code",
   "execution_count": 7,
   "metadata": {
    "collapsed": false,
    "deletable": true,
    "editable": true
   },
   "outputs": [],
   "source": [
    "input = open('simplewiki-preparsed3.txt', 'r')\n",
    "output = open('simplewiki-preparsed4.txt', 'w')\n",
    "s = input.read(1)\n",
    "while len(s) == 1:\n",
    "    if s == ']' or s == '[' or s == '}' or s == '{':\n",
    "        s = \"\"\n",
    "    if s >= 'A' and s <= 'Z':\n",
    "        s = chr(ord(s) - ord('A') + ord('a'))\n",
    "    output.write(s)\n",
    "    s = input.read(1)\n",
    "output.close()\n",
    "input.close()"
   ]
  },
  {
   "cell_type": "code",
   "execution_count": 8,
   "metadata": {
    "collapsed": false,
    "deletable": true,
    "editable": true
   },
   "outputs": [],
   "source": [
    "input = open('simplewiki-preparsed4.txt', 'r')\n",
    "output = open('simplewiki-preparsed5.txt', 'w')\n",
    "s = input.readline()\n",
    "while len(s) > 0:\n",
    "    s = s.split()\n",
    "    for i in range(len(s)):\n",
    "        if s[i].find('#') != -1 or s[i].find('--') != -1:\n",
    "            s[i] = \"\"\n",
    "        if s[i] == '-':\n",
    "            s[i] = \"\"\n",
    "        if s[i].rfind(':') != -1:\n",
    "            ind = s[i].rfind(':')\n",
    "            s[i] = s[i][ind + 1:]\n",
    "        if s[i].rfind('*') != -1:\n",
    "            ind = s[i].rfind('*')\n",
    "            s[i] = s[i][ind + 1:]\n",
    "        s[i] = s[i].replace(\"'''\", '\"')\n",
    "        s[i] = s[i].replace(\"''\", '\"')\n",
    "        if len(s[i]) > 0:\n",
    "            s[i] += \" \"\n",
    "        output.write(s[i])\n",
    "    output.write('\\n')\n",
    "    s = input.readline()\n",
    "\n",
    "output.close()\n",
    "input.close()"
   ]
  },
  {
   "cell_type": "code",
   "execution_count": 9,
   "metadata": {
    "collapsed": false,
    "deletable": true,
    "editable": true
   },
   "outputs": [],
   "source": [
    "input = open('simplewiki-preparsed5.txt', 'r')\n",
    "output = open('simplewiki-preparsed6.txt', 'w')\n",
    "s = input.read(1)\n",
    "while len(s) == 1:\n",
    "    if not(s >= 'a' and s <= 'z' or s >= '0' and s <= '9' or s == '-' or s == ' ' or s == \"'\" or s == '\\n'):\n",
    "        s = \" \"\n",
    "    output.write(s)\n",
    "    s = input.read(1)\n",
    "output.close()\n",
    "input.close()"
   ]
  },
  {
   "cell_type": "code",
   "execution_count": 13,
   "metadata": {
    "collapsed": false,
    "deletable": true,
    "editable": true
   },
   "outputs": [],
   "source": [
    "input = open('simplewiki-preparsed6.txt', 'r')\n",
    "M = dict()\n",
    "s = input.readline()\n",
    "while len(s) > 0:\n",
    "    s = s.split()\n",
    "    for elem in s:\n",
    "        if elem in M:\n",
    "            M[elem] += 1\n",
    "        else:\n",
    "            M[elem] = 0\n",
    "    s = input.readline()\n",
    "input.close()\n",
    "\n",
    "border = 35\n",
    "input = open('simplewiki-preparsed6.txt', 'r')\n",
    "output = open('simplewiki-parsed.txt', 'w')\n",
    "s = input.readline()\n",
    "while len(s) > 0:\n",
    "    s = s.split()\n",
    "    for elem in s:\n",
    "        if M[elem] >= border and elem != \"br\" and elem != \"div\" and elem != \"sul\":\n",
    "            output.write(elem + \" \")\n",
    "        elif elem != \"br\" and elem != \"div\" and elem != \"sul\" and M[elem] > 20:\n",
    "            output.write(\"%UNKNOWN \")\n",
    "    output.write('\\n')\n",
    "    s = input.readline()\n",
    "input.close()\n",
    "output.close()"
   ]
  },
  {
   "cell_type": "code",
   "execution_count": 14,
   "metadata": {
    "collapsed": true,
    "deletable": true,
    "editable": true
   },
   "outputs": [],
   "source": [
    "input = open('simplewiki-parsed.txt', 'r')\n",
    "output = open('simplewiki-parsed2.txt', 'w')\n",
    "s = input.readline()\n",
    "while len(s) > 0:\n",
    "    s = s.split()\n",
    "    if len(s) < 4:\n",
    "        s = []\n",
    "    for elem in s:\n",
    "        output.write(elem + \" \")\n",
    "    if s != []:\n",
    "        output.write(\"\\n\")\n",
    "    s = input.readline()\n",
    "input.close()\n",
    "output.close()"
   ]
  },
  {
   "cell_type": "code",
   "execution_count": 15,
   "metadata": {
    "collapsed": true,
    "deletable": true,
    "editable": true
   },
   "outputs": [],
   "source": [
    "input = open('simplewiki-parsed2.txt', 'r')\n",
    "M = dict()\n",
    "s = input.readline()\n",
    "while len(s) > 0:\n",
    "    s = s.split()\n",
    "    for elem in s:\n",
    "        if elem in M:\n",
    "            M[elem] += 1\n",
    "        else:\n",
    "            M[elem] = 0\n",
    "    s = input.readline()\n",
    "input.close()\n",
    "\n",
    "border = 35\n",
    "input = open('simplewiki-parsed2.txt', 'r')\n",
    "output = open('simplewiki-parsed3.txt', 'w')\n",
    "s = input.readline()\n",
    "while len(s) > 0:\n",
    "    s = s.split()\n",
    "    for elem in s:\n",
    "        if M[elem] >= border:\n",
    "            output.write(elem + \" \")\n",
    "        else:\n",
    "            output.write(\"%UNKNOWN \")\n",
    "    output.write('\\n')\n",
    "    s = input.readline()\n",
    "input.close()\n",
    "output.close()"
   ]
  },
  {
   "cell_type": "markdown",
   "metadata": {
    "collapsed": true,
    "deletable": true,
    "editable": true
   },
   "source": [
    "Парсинг таблицы для сравнения моделей:"
   ]
  },
  {
   "cell_type": "code",
   "execution_count": 6,
   "metadata": {
    "collapsed": false
   },
   "outputs": [
    {
     "name": "stdout",
     "output_type": "stream",
     "text": [
      "37810\n"
     ]
    }
   ],
   "source": [
    "input = open('words-1.txt', 'r')\n",
    "word_dict = dict()\n",
    "s = input.readline()\n",
    "while len(s) > 0:\n",
    "    s = s.split()\n",
    "    num = int(s[1])\n",
    "    word_dict[s[0]] = num\n",
    "    s = input.readline()\n",
    "print(len(word_dict))\n",
    "input.close()\n",
    "\n",
    "input = open('test_words.txt', 'r')\n",
    "output = open('test_words_parsed.txt', 'w')\n",
    "\n",
    "s = input.readline()\n",
    "while len(s) > 0:\n",
    "    if s.find(':') != -1:\n",
    "        s = []\n",
    "        #print('A')\n",
    "    else:\n",
    "        s = s.split()\n",
    "    is_good = True\n",
    "    for i in range(len(s)):\n",
    "        if s[i][0] >= 'A' and s[i][0] <= 'Z':\n",
    "            s[i] = chr(ord(s[i][0]) - ord('A') + ord('a')) + s[i][1:]\n",
    "        if not(s[i] in word_dict):\n",
    "            #print(s[i])\n",
    "            is_good = False\n",
    "    if is_good and len(s) == 4:\n",
    "        output.write(' '.join(s) + '\\n')\n",
    "    s = input.readline()\n",
    "input.close()\n",
    "output.close()"
   ]
  },
  {
   "cell_type": "code",
   "execution_count": null,
   "metadata": {
    "collapsed": true
   },
   "outputs": [],
   "source": []
  }
 ],
 "metadata": {
  "kernelspec": {
   "display_name": "Python 3",
   "language": "python",
   "name": "python3"
  },
  "language_info": {
   "codemirror_mode": {
    "name": "ipython",
    "version": 3
   },
   "file_extension": ".py",
   "mimetype": "text/x-python",
   "name": "python",
   "nbconvert_exporter": "python",
   "pygments_lexer": "ipython3",
   "version": "3.4.3"
  }
 },
 "nbformat": 4,
 "nbformat_minor": 2
}
